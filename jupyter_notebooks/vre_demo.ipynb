{
 "cells": [
  {
   "cell_type": "markdown",
   "metadata": {},
   "source": [
    "## Install Prerequisites"
   ]
  },
  {
   "cell_type": "code",
   "execution_count": null,
   "metadata": {},
   "outputs": [],
   "source": [
    "import subprocess\n",
    "import sys\n",
    "import base64\n",
    "import getpass\n",
    "import requests\n",
    "subprocess.check_call([sys.executable, \"-m\", \"pip\", \"install\", \"pyyaml\"])\n",
    "subprocess.check_call([sys.executable, \"-m\", \"pip\", \"install\", \"networkx\"])\n",
    "subprocess.check_call([sys.executable, \"-m\", \"pip\", \"install\", \"matplotlib\"])\n",
    "subprocess.check_call([sys.executable, \"-m\", \"pip\", \"install\", \"plotly\"])\n",
    "import yaml\n",
    "import matplotlib\n",
    "import plotly.graph_objects as go\n",
    "import networkx as nx\n",
    "import webbrowser"
   ]
  },
  {
   "cell_type": "markdown",
   "metadata": {},
   "source": [
    "## Create ExoGeni Credentials \n",
    "Upload ExoGeni Credentials from ~/.ssl/user.jks"
   ]
  },
  {
   "cell_type": "code",
   "execution_count": 2,
   "metadata": {},
   "outputs": [
    {
     "ename": "FileNotFoundError",
     "evalue": "[Errno 2] No such file or directory: 'user.jks'",
     "output_type": "error",
     "traceback": [
      "\u001b[0;31m---------------------------------------------------------------------------\u001b[0m",
      "\u001b[0;31mFileNotFoundError\u001b[0m                         Traceback (most recent call last)",
      "\u001b[0;32m<ipython-input-2-a7453877d0f6>\u001b[0m in \u001b[0;36m<module>\u001b[0;34m\u001b[0m\n\u001b[1;32m      1\u001b[0m \u001b[0;32mimport\u001b[0m \u001b[0mbase64\u001b[0m\u001b[0;34m\u001b[0m\u001b[0;34m\u001b[0m\u001b[0m\n\u001b[0;32m----> 2\u001b[0;31m \u001b[0;32mwith\u001b[0m \u001b[0mopen\u001b[0m\u001b[0;34m(\u001b[0m\u001b[0;34m\"user.jks\"\u001b[0m\u001b[0;34m,\u001b[0m \u001b[0;34m\"rb\"\u001b[0m\u001b[0;34m)\u001b[0m \u001b[0;32mas\u001b[0m \u001b[0mimage_file\u001b[0m\u001b[0;34m:\u001b[0m\u001b[0;34m\u001b[0m\u001b[0;34m\u001b[0m\u001b[0m\n\u001b[0m\u001b[1;32m      3\u001b[0m     \u001b[0mexoGENI_keystore_as_base64\u001b[0m \u001b[0;34m=\u001b[0m \u001b[0mbase64\u001b[0m\u001b[0;34m.\u001b[0m\u001b[0mb64encode\u001b[0m\u001b[0;34m(\u001b[0m\u001b[0mimage_file\u001b[0m\u001b[0;34m.\u001b[0m\u001b[0mread\u001b[0m\u001b[0;34m(\u001b[0m\u001b[0;34m)\u001b[0m\u001b[0;34m)\u001b[0m\u001b[0;34m.\u001b[0m\u001b[0mdecode\u001b[0m\u001b[0;34m(\u001b[0m\u001b[0;34m\"utf-8\"\u001b[0m\u001b[0;34m)\u001b[0m\u001b[0;34m\u001b[0m\u001b[0;34m\u001b[0m\u001b[0m\n",
      "\u001b[0;31mFileNotFoundError\u001b[0m: [Errno 2] No such file or directory: 'user.jks'"
     ]
    }
   ],
   "source": [
    "with open(\"user.jks\", \"rb\") as image_file:\n",
    "    exoGENI_keystore_as_base64 = base64.b64encode(image_file.read()).decode(\"utf-8\") \n"
   ]
  },
  {
   "cell_type": "code",
   "execution_count": 3,
   "metadata": {},
   "outputs": [
    {
     "ename": "KeyboardInterrupt",
     "evalue": "Interrupted by user",
     "output_type": "error",
     "traceback": [
      "\u001b[0;31m---------------------------------------------------------------------------\u001b[0m",
      "\u001b[0;31mKeyboardInterrupt\u001b[0m                         Traceback (most recent call last)",
      "\u001b[0;32m<ipython-input-3-3cdeee16635b>\u001b[0m in \u001b[0;36m<module>\u001b[0;34m\u001b[0m\n\u001b[1;32m      1\u001b[0m \u001b[0;32mimport\u001b[0m \u001b[0mgetpass\u001b[0m\u001b[0;34m\u001b[0m\u001b[0;34m\u001b[0m\u001b[0m\n\u001b[0;32m----> 2\u001b[0;31m \u001b[0mexoGENI_credential_user\u001b[0m  \u001b[0;34m=\u001b[0m \u001b[0mgetpass\u001b[0m\u001b[0;34m.\u001b[0m\u001b[0mgetpass\u001b[0m\u001b[0;34m(\u001b[0m\u001b[0;34m'Enter your ExoGENI_credential_user'\u001b[0m\u001b[0;34m)\u001b[0m\u001b[0;34m\u001b[0m\u001b[0;34m\u001b[0m\u001b[0m\n\u001b[0m",
      "\u001b[0;32m/opt/conda/lib/python3.7/site-packages/ipykernel/kernelbase.py\u001b[0m in \u001b[0;36mgetpass\u001b[0;34m(self, prompt, stream)\u001b[0m\n\u001b[1;32m    844\u001b[0m             \u001b[0mself\u001b[0m\u001b[0;34m.\u001b[0m\u001b[0m_parent_ident\u001b[0m\u001b[0;34m,\u001b[0m\u001b[0;34m\u001b[0m\u001b[0;34m\u001b[0m\u001b[0m\n\u001b[1;32m    845\u001b[0m             \u001b[0mself\u001b[0m\u001b[0;34m.\u001b[0m\u001b[0m_parent_header\u001b[0m\u001b[0;34m,\u001b[0m\u001b[0;34m\u001b[0m\u001b[0;34m\u001b[0m\u001b[0m\n\u001b[0;32m--> 846\u001b[0;31m             \u001b[0mpassword\u001b[0m\u001b[0;34m=\u001b[0m\u001b[0;32mTrue\u001b[0m\u001b[0;34m,\u001b[0m\u001b[0;34m\u001b[0m\u001b[0;34m\u001b[0m\u001b[0m\n\u001b[0m\u001b[1;32m    847\u001b[0m         )\n\u001b[1;32m    848\u001b[0m \u001b[0;34m\u001b[0m\u001b[0m\n",
      "\u001b[0;32m/opt/conda/lib/python3.7/site-packages/ipykernel/kernelbase.py\u001b[0m in \u001b[0;36m_input_request\u001b[0;34m(self, prompt, ident, parent, password)\u001b[0m\n\u001b[1;32m    902\u001b[0m             \u001b[0;32mexcept\u001b[0m \u001b[0mKeyboardInterrupt\u001b[0m\u001b[0;34m:\u001b[0m\u001b[0;34m\u001b[0m\u001b[0;34m\u001b[0m\u001b[0m\n\u001b[1;32m    903\u001b[0m                 \u001b[0;31m# re-raise KeyboardInterrupt, to truncate traceback\u001b[0m\u001b[0;34m\u001b[0m\u001b[0;34m\u001b[0m\u001b[0;34m\u001b[0m\u001b[0m\n\u001b[0;32m--> 904\u001b[0;31m                 \u001b[0;32mraise\u001b[0m \u001b[0mKeyboardInterrupt\u001b[0m\u001b[0;34m(\u001b[0m\u001b[0;34m\"Interrupted by user\"\u001b[0m\u001b[0;34m)\u001b[0m \u001b[0;32mfrom\u001b[0m \u001b[0;32mNone\u001b[0m\u001b[0;34m\u001b[0m\u001b[0;34m\u001b[0m\u001b[0m\n\u001b[0m\u001b[1;32m    905\u001b[0m             \u001b[0;32mexcept\u001b[0m \u001b[0mException\u001b[0m \u001b[0;32mas\u001b[0m \u001b[0me\u001b[0m\u001b[0;34m:\u001b[0m\u001b[0;34m\u001b[0m\u001b[0;34m\u001b[0m\u001b[0m\n\u001b[1;32m    906\u001b[0m                 \u001b[0mself\u001b[0m\u001b[0;34m.\u001b[0m\u001b[0mlog\u001b[0m\u001b[0;34m.\u001b[0m\u001b[0mwarning\u001b[0m\u001b[0;34m(\u001b[0m\u001b[0;34m\"Invalid Message:\"\u001b[0m\u001b[0;34m,\u001b[0m \u001b[0mexc_info\u001b[0m\u001b[0;34m=\u001b[0m\u001b[0;32mTrue\u001b[0m\u001b[0;34m)\u001b[0m\u001b[0;34m\u001b[0m\u001b[0;34m\u001b[0m\u001b[0m\n",
      "\u001b[0;31mKeyboardInterrupt\u001b[0m: Interrupted by user"
     ]
    }
   ],
   "source": [
    "exoGENI_credential_user  = getpass.getpass('Enter your ExoGENI_credential_user')"
   ]
  },
  {
   "cell_type": "code",
   "execution_count": null,
   "metadata": {},
   "outputs": [],
   "source": [
    "exoGENI_credential_token = getpass.getpass(\"Enter your ExoGENI_credential_token \" )"
   ]
  },
  {
   "cell_type": "markdown",
   "metadata": {},
   "source": [
    "## Create EC2 Credentials "
   ]
  },
  {
   "cell_type": "code",
   "execution_count": 6,
   "metadata": {},
   "outputs": [
    {
     "name": "stdout",
     "output_type": "stream",
     "text": [
      "Enter your aws_access_key_id········\n"
     ]
    }
   ],
   "source": [
    "aws_access_key_id  = getpass.getpass('Enter your aws_access_key_id')"
   ]
  },
  {
   "cell_type": "code",
   "execution_count": 7,
   "metadata": {},
   "outputs": [
    {
     "name": "stdout",
     "output_type": "stream",
     "text": [
      "Enter your aws_secret_access_key········\n"
     ]
    }
   ],
   "source": [
    "aws_secret_access_key  = getpass.getpass('Enter your aws_secret_access_key')"
   ]
  },
  {
   "cell_type": "code",
   "execution_count": 17,
   "metadata": {},
   "outputs": [
    {
     "name": "stdout",
     "output_type": "stream",
     "text": [
      "Enter your username········\n"
     ]
    }
   ],
   "source": [
    "username  = getpass.getpass('Enter your username')"
   ]
  },
  {
   "cell_type": "code",
   "execution_count": 18,
   "metadata": {},
   "outputs": [
    {
     "name": "stdout",
     "output_type": "stream",
     "text": [
      "Enter your password········\n"
     ]
    }
   ],
   "source": [
    "password  = getpass.getpass('Enter your password')"
   ]
  },
  {
   "cell_type": "markdown",
   "metadata": {},
   "source": [
    "## Enter API URL"
   ]
  },
  {
   "cell_type": "code",
   "execution_count": 19,
   "metadata": {},
   "outputs": [
    {
     "name": "stdout",
     "output_type": "stream",
     "text": [
      "https://lifewatch.lab.uvalight.net:30001/manager\n"
     ]
    }
   ],
   "source": [
    "# base_url = input(\"Enter host base_url \" )\n",
    "# http://manager:8080\n",
    "# http://localhost:30000\n",
    "base_url = 'https://lifewatch.lab.uvalight.net:30001/manager'\n",
    "print(base_url)"
   ]
  },
  {
   "cell_type": "markdown",
   "metadata": {},
   "source": [
    "## Upload Credentials"
   ]
  },
  {
   "cell_type": "code",
   "execution_count": 14,
   "metadata": {},
   "outputs": [
    {
     "ename": "NameError",
     "evalue": "name 'exoGENI_keystore_as_base64' is not defined",
     "output_type": "error",
     "traceback": [
      "\u001b[0;31m---------------------------------------------------------------------------\u001b[0m",
      "\u001b[0;31mNameError\u001b[0m                                 Traceback (most recent call last)",
      "\u001b[0;32m<ipython-input-14-97b4be67a8de>\u001b[0m in \u001b[0;36m<module>\u001b[0;34m\u001b[0m\n\u001b[1;32m      1\u001b[0m \u001b[0;32mimport\u001b[0m \u001b[0mrequests\u001b[0m\u001b[0;34m\u001b[0m\u001b[0;34m\u001b[0m\u001b[0m\n\u001b[1;32m      2\u001b[0m \u001b[0mpath\u001b[0m \u001b[0;34m=\u001b[0m \u001b[0;34m\"/credential\"\u001b[0m\u001b[0;34m\u001b[0m\u001b[0;34m\u001b[0m\u001b[0m\n\u001b[0;32m----> 3\u001b[0;31m \u001b[0mpayload\u001b[0m \u001b[0;34m=\u001b[0m \u001b[0;34m'{\"cloud_provider_name\": \"ExoGENI\",\"keys\": {\"keystore\": \"'\u001b[0m\u001b[0;34m+\u001b[0m\u001b[0mexoGENI_keystore_as_base64\u001b[0m\u001b[0;34m+\u001b[0m\u001b[0;34m'\"}, \"token\": \"'\u001b[0m\u001b[0;34m+\u001b[0m\u001b[0mexoGENI_credential_token\u001b[0m\u001b[0;34m+\u001b[0m\u001b[0;34m'\",  \"token_type\": \"password\",  \"user\": \"'\u001b[0m\u001b[0;34m+\u001b[0m\u001b[0mexoGENI_credential_user\u001b[0m\u001b[0;34m+\u001b[0m\u001b[0;34m'\"}'\u001b[0m\u001b[0;34m\u001b[0m\u001b[0;34m\u001b[0m\u001b[0m\n\u001b[0m\u001b[1;32m      4\u001b[0m headers = {\n\u001b[1;32m      5\u001b[0m   \u001b[0;34m'Content-Type'\u001b[0m\u001b[0;34m:\u001b[0m \u001b[0;34m'application/json'\u001b[0m\u001b[0;34m,\u001b[0m\u001b[0;34m\u001b[0m\u001b[0;34m\u001b[0m\u001b[0m\n",
      "\u001b[0;31mNameError\u001b[0m: name 'exoGENI_keystore_as_base64' is not defined"
     ]
    }
   ],
   "source": [
    "path = \"/credential\"\n",
    "payload = '{\"cloud_provider_name\": \"ExoGENI\",\"keys\": {\"keystore\": \"'+exoGENI_keystore_as_base64+'\"}, \"token\": \"'+exoGENI_credential_token+'\",  \"token_type\": \"password\",  \"user\": \"'+exoGENI_credential_user+'\"}'\n",
    "headers = {\n",
    "  'Content-Type': 'application/json',\n",
    "   'accept': 'application/json'\n",
    "}\n",
    "response = requests.post(base_url+path, data=payload,headers=headers)\n",
    "credential_id = response.text\n",
    "print(credential_id)"
   ]
  },
  {
   "cell_type": "code",
   "execution_count": 21,
   "metadata": {},
   "outputs": [
    {
     "name": "stdout",
     "output_type": "stream",
     "text": [
      "5efb35329c8dc53728a46cfc\n"
     ]
    },
    {
     "name": "stderr",
     "output_type": "stream",
     "text": [
      "/opt/conda/lib/python3.7/site-packages/urllib3/connectionpool.py:986: InsecureRequestWarning: Unverified HTTPS request is being made to host 'lifewatch.lab.uvalight.net'. Adding certificate verification is strongly advised. See: https://urllib3.readthedocs.io/en/latest/advanced-usage.html#ssl-warnings\n",
      "  InsecureRequestWarning,\n"
     ]
    }
   ],
   "source": [
    "path = \"/credential\"\n",
    "payload = '{ \"cloud_provider_name\": \"EC2\",\"keys\": {\"aws_access_key_id\": \"'+aws_access_key_id+'\"},  \"token_type\": \"access_key\", \"token\": \"'+aws_secret_access_key+'\"}' \n",
    "headers = {\n",
    "  'Content-Type': 'application/json',\n",
    "   'accept': 'application/json'\n",
    "}\n",
    "\n",
    "\n",
    "response = requests.post(base_url+path, data=payload,headers=headers,verify=False, auth=(username, password))\n",
    "credential_id = response.text\n",
    "print(credential_id)"
   ]
  },
  {
   "cell_type": "markdown",
   "metadata": {},
   "source": [
    "## Upload TOSCA"
   ]
  },
  {
   "cell_type": "code",
   "execution_count": 24,
   "metadata": {},
   "outputs": [
    {
     "name": "stderr",
     "output_type": "stream",
     "text": [
      "/opt/conda/lib/python3.7/site-packages/urllib3/connectionpool.py:986: InsecureRequestWarning: Unverified HTTPS request is being made to host 'lifewatch.lab.uvalight.net'. Adding certificate verification is strongly advised. See: https://urllib3.readthedocs.io/en/latest/advanced-usage.html#ssl-warnings\n",
      "  InsecureRequestWarning,\n"
     ]
    }
   ],
   "source": [
    "path = \"/tosca_template\"\n",
    "payload = {}\n",
    "filename = 'lifeWatch_vre1.yaml'\n",
    "fin = open(filename, 'rb')\n",
    "files = {'file': fin}\n",
    "\n",
    "headers = {}\n",
    "\n",
    "response = requests.request(\"POST\", base_url+path, headers=headers, files = files,verify=False, auth=(username, password))\n",
    "tosca_id = response.text\n",
    "    "
   ]
  },
  {
   "cell_type": "markdown",
   "metadata": {},
   "source": [
    "## Get TOSCA"
   ]
  },
  {
   "cell_type": "code",
   "execution_count": 29,
   "metadata": {
    "scrolled": true
   },
   "outputs": [
    {
     "name": "stdout",
     "output_type": "stream",
     "text": [
      "tosca_definitions_version: \"tosca_simple_yaml_1_0\"\n",
      "topology_template:\n",
      "  node_templates:\n",
      "    ws-pema:\n",
      "      properties:\n",
      "        ports:\n",
      "        - \"30001:8080\"\n",
      "      interfaces:\n",
      "        Kubernetes:\n",
      "          delete:\n",
      "            inputs:\n",
      "              repository: \"https://github.com/QCAPI-DRIP/playbooks.git\"\n",
      "              resources:\n",
      "              - \"k8s/delete_service.yml\"\n",
      "          create:\n",
      "            inputs:\n",
      "              repository: \"https://github.com/QCAPI-DRIP/playbooks.git\"\n",
      "              resources:\n",
      "              - \"k8s/create_service.yml\"\n",
      "          scale:\n",
      "            inputs:\n",
      "              repository: \"https://github.com/QCAPI-DRIP/playbooks.git\"\n",
      "              resources:\n",
      "              - \"k8s/scale_service.yml\"\n",
      "              replicas: 1\n",
      "          autoscale:\n",
      "            inputs:\n",
      "              repository: \"https://github.com/QCAPI-DRIP/playbooks.git\"\n",
      "              resources:\n",
      "              - \"k8s/autoscale_service.yml\"\n",
      "              horizontal_pod_autoscaler: \"horizontal_pod_autoscaler.yml\"\n",
      "          info:\n",
      "            inputs:\n",
      "              repository: \"https://github.com/QCAPI-DRIP/playbooks.git\"\n",
      "              resources:\n",
      "              - \"k8s/get_info_service.yml\"\n",
      "      type: \"tosca.nodes.QC.Container.Application.Docker\"\n",
      "      artifacts:\n",
      "        image:\n",
      "          type: \"tosca.artifacts.Deployment.Image.Container.Docker\"\n",
      "          file: \"alogo53/ws-pema-lifewatch\"\n",
      "          repository: \"docker_hub\"\n",
      "description: \"TOSCA example\\n\"\n",
      "imports:\n",
      "- nodes: \"https://raw.githubusercontent.com/qcdis-sdia/sdia-tosca/master/types/nodes.yaml\"\n",
      "- data: \"https://raw.githubusercontent.com/qcdis-sdia/sdia-tosca/master/types/data.yml\"\n",
      "- capabilities: \"https://raw.githubusercontent.com/qcdis-sdia/sdia-tosca/master/types/capabilities.yaml\"\n",
      "- policies: \"https://raw.githubusercontent.com/qcdis-sdia/sdia-tosca/master/types/policies.yaml\"\n",
      "- interfaces: \"https://raw.githubusercontent.com/qcdis-sdia/sdia-tosca/master/types/interfaces.yml\"\n",
      "repositories:\n",
      "  docker_hub: \"https://hub.docker.com/\"\n",
      "\n"
     ]
    },
    {
     "name": "stderr",
     "output_type": "stream",
     "text": [
      "/opt/conda/lib/python3.7/site-packages/urllib3/connectionpool.py:986: InsecureRequestWarning: Unverified HTTPS request is being made to host 'lifewatch.lab.uvalight.net'. Adding certificate verification is strongly advised. See: https://urllib3.readthedocs.io/en/latest/advanced-usage.html#ssl-warnings\n",
      "  InsecureRequestWarning,\n"
     ]
    }
   ],
   "source": [
    "path = \"/tosca_template/\"+tosca_id\n",
    "payload = {}\n",
    "headers= {'accept':'text/plain'}\n",
    "\n",
    "response = requests.request(\"GET\", base_url+path, headers=headers, data = payload,verify=False, auth=(username, password))\n",
    "tosca = response.text\n",
    "print(tosca)"
   ]
  },
  {
   "cell_type": "markdown",
   "metadata": {},
   "source": [
    "## Show Topology"
   ]
  },
  {
   "cell_type": "code",
   "execution_count": 38,
   "metadata": {},
   "outputs": [
    {
     "name": "stderr",
     "output_type": "stream",
     "text": [
      "/opt/conda/lib/python3.7/site-packages/urllib3/connectionpool.py:986: InsecureRequestWarning: Unverified HTTPS request is being made to host 'lifewatch.lab.uvalight.net'. Adding certificate verification is strongly advised. See: https://urllib3.readthedocs.io/en/latest/advanced-usage.html#ssl-warnings\n",
      "  InsecureRequestWarning,\n"
     ]
    },
    {
     "data": {
      "image/png": "[encoded data removed]",
      "text/plain": [
       "<Figure size 432x288 with 1 Axes>"
      ]
     },
     "metadata": {},
     "output_type": "display_data"
    }
   ],
   "source": [
    "\n",
    "\n",
    "\n",
    "def build_graph(node_templates):\n",
    "    graph = nx.DiGraph()\n",
    "    for node_name in node_templates:\n",
    "        graph.add_node(node_name, attr_dict=node_templates[node_name])\n",
    "        if 'requirements' in node_templates[node_name]:\n",
    "            for req in node_templates[node_name]['requirements']:\n",
    "                req_name = next(iter(req))\n",
    "                req_node_name = req[req_name]['node']\n",
    "                if 'relationship' in req[req_name] and 'type' in req[req_name]['relationship']:\n",
    "                    relationship_type = req[req_name]['relationship']['type']\n",
    "                else:\n",
    "                    if 'relationship' not in req[req_name]:\n",
    "                        relationship_type = 'tosca.relationships.DependsOn'\n",
    "                    else:\n",
    "                        relationship_type = req[req_name]['relationship']\n",
    "                graph.add_edge(node_name, req_node_name, relationship=relationship_type)\n",
    "\n",
    "    # nx.draw(graph, with_labels=True)\n",
    "    # plt.savefig(\"/tmp/graph.png\")\n",
    "    # plt.show()\n",
    "    return graph\n",
    "\n",
    "def get_tosca(tosca_id):\n",
    "    path = \"/tosca_template/\"+tosca_id\n",
    "    payload = {}\n",
    "    headers= {'accept':'text/plain'}\n",
    "    response = requests.request(\"GET\", base_url+path, headers=headers, data = payload,verify=False, auth=(username, password))\n",
    "    return response.text\n",
    "\n",
    "tosca = get_tosca(tosca_id)\n",
    "tosca_dict = yaml.safe_load(tosca)\n",
    "graph = build_graph(tosca_dict['topology_template']['node_templates'])\n",
    "nx.draw(graph, with_labels=True)\n"
   ]
  },
  {
   "cell_type": "markdown",
   "metadata": {},
   "source": [
    "## Make Plan"
   ]
  },
  {
   "cell_type": "code",
   "execution_count": 39,
   "metadata": {},
   "outputs": [
    {
     "name": "stderr",
     "output_type": "stream",
     "text": [
      "/opt/conda/lib/python3.7/site-packages/urllib3/connectionpool.py:986: InsecureRequestWarning: Unverified HTTPS request is being made to host 'lifewatch.lab.uvalight.net'. Adding certificate verification is strongly advised. See: https://urllib3.readthedocs.io/en/latest/advanced-usage.html#ssl-warnings\n",
      "  InsecureRequestWarning,\n"
     ]
    }
   ],
   "source": [
    "path = \"/planner/plan/\"+tosca_id\n",
    "payload = {}\n",
    "headers= {'accept':'text/plain'}\n",
    "\n",
    "response = requests.request(\"GET\", base_url+path, headers=headers, data = payload,verify=False, auth=(username, password))\n",
    "planed_tosca_id = response.text"
   ]
  },
  {
   "cell_type": "code",
   "execution_count": 40,
   "metadata": {},
   "outputs": [
    {
     "name": "stderr",
     "output_type": "stream",
     "text": [
      "/opt/conda/lib/python3.7/site-packages/urllib3/connectionpool.py:986: InsecureRequestWarning: Unverified HTTPS request is being made to host 'lifewatch.lab.uvalight.net'. Adding certificate verification is strongly advised. See: https://urllib3.readthedocs.io/en/latest/advanced-usage.html#ssl-warnings\n",
      "  InsecureRequestWarning,\n"
     ]
    },
    {
     "name": "stdout",
     "output_type": "stream",
     "text": [
      "compute: {'disk_size': '20000 MB', 'mem_size': '1000 MB', 'num_cores': 1, 'os': 'Ubuntu 18.04', 'user_name': 'vm_user'}\n",
      "---------------------------------------------------------------------------------------------------------------------\n",
      "compute_1: {'disk_size': '20000 MB', 'mem_size': '1000 MB', 'num_cores': 1, 'os': 'Ubuntu 18.04', 'user_name': 'vm_user'}\n",
      "---------------------------------------------------------------------------------------------------------------------\n",
      "topology: {'domain': 'Frankfurt', 'provider': 'EC2'}\n",
      "---------------------------------------------------------------------------------------------------------------------\n",
      "ws-pema: {'ports': ['30001:8080']}\n",
      "---------------------------------------------------------------------------------------------------------------------\n"
     ]
    },
    {
     "data": {
      "image/png": "[encoded data removed]",
      "text/plain": [
       "<Figure size 432x288 with 1 Axes>"
      ]
     },
     "metadata": {},
     "output_type": "display_data"
    }
   ],
   "source": [
    "tosca = get_tosca(planed_tosca_id)\n",
    "\n",
    "tosca_dict = yaml.safe_load(tosca)\n",
    "graph = build_graph(tosca_dict['topology_template']['node_templates'])\n",
    "nx.draw(graph, with_labels=True)\n",
    "\n",
    "for node_name in tosca_dict['topology_template']['node_templates']:\n",
    "    if 'properties' in tosca_dict['topology_template']['node_templates'][node_name]:\n",
    "        print(node_name+': '+str(tosca_dict['topology_template']['node_templates'][node_name]['properties']))\n",
    "        print('---------------------------------------------------------------------------------------------------------------------')\n",
    "        \n",
    "        "
   ]
  },
  {
   "cell_type": "markdown",
   "metadata": {},
   "source": [
    "## Provision Plan"
   ]
  },
  {
   "cell_type": "code",
   "execution_count": 41,
   "metadata": {},
   "outputs": [
    {
     "name": "stderr",
     "output_type": "stream",
     "text": [
      "/opt/conda/lib/python3.7/site-packages/urllib3/connectionpool.py:986: InsecureRequestWarning: Unverified HTTPS request is being made to host 'lifewatch.lab.uvalight.net'. Adding certificate verification is strongly advised. See: https://urllib3.readthedocs.io/en/latest/advanced-usage.html#ssl-warnings\n",
      "  InsecureRequestWarning,\n"
     ]
    }
   ],
   "source": [
    "path = \"/provisioner/provision/\"+planed_tosca_id\n",
    "payload = {}\n",
    "headers= {'accept':'text/plain'}\n",
    "\n",
    "response = requests.request(\"GET\", base_url+path, headers=headers, data = payload,verify=False, auth=(username, password))\n",
    "provisioned_tosca_id = response.text"
   ]
  },
  {
   "cell_type": "code",
   "execution_count": 42,
   "metadata": {},
   "outputs": [
    {
     "name": "stderr",
     "output_type": "stream",
     "text": [
      "/opt/conda/lib/python3.7/site-packages/urllib3/connectionpool.py:986: InsecureRequestWarning: Unverified HTTPS request is being made to host 'lifewatch.lab.uvalight.net'. Adding certificate verification is strongly advised. See: https://urllib3.readthedocs.io/en/latest/advanced-usage.html#ssl-warnings\n",
      "  InsecureRequestWarning,\n"
     ]
    },
    {
     "name": "stdout",
     "output_type": "stream",
     "text": [
      "compute: 3.120.209.252\n",
      "compute_1: 3.126.139.56\n"
     ]
    },
    {
     "data": {
      "image/png": "[encoded data removed]",
      "text/plain": [
       "<Figure size 432x288 with 1 Axes>"
      ]
     },
     "metadata": {},
     "output_type": "display_data"
    }
   ],
   "source": [
    "tosca = get_tosca(provisioned_tosca_id)\n",
    "\n",
    "tosca_dict = yaml.safe_load(tosca)\n",
    "graph = build_graph(tosca_dict['topology_template']['node_templates'])\n",
    "nx.draw(graph, with_labels=True)\n",
    "\n",
    "\n",
    "for node_name in tosca_dict['topology_template']['node_templates']:\n",
    "    if tosca_dict['topology_template']['node_templates'][node_name]['type'] == 'tosca.nodes.QC.VM.Compute':\n",
    "        print(node_name+': '+tosca_dict['topology_template']['node_templates'][node_name]['attributes']['public_ip'])"
   ]
  },
  {
   "cell_type": "markdown",
   "metadata": {},
   "source": [
    "## Deploy K8s And WS"
   ]
  },
  {
   "cell_type": "code",
   "execution_count": null,
   "metadata": {},
   "outputs": [
    {
     "name": "stderr",
     "output_type": "stream",
     "text": [
      "/opt/conda/lib/python3.7/site-packages/urllib3/connectionpool.py:986: InsecureRequestWarning: Unverified HTTPS request is being made to host 'lifewatch.lab.uvalight.net'. Adding certificate verification is strongly advised. See: https://urllib3.readthedocs.io/en/latest/advanced-usage.html#ssl-warnings\n",
      "  InsecureRequestWarning,\n"
     ]
    }
   ],
   "source": [
    "path = \"/deployer/deploy/\"+provisioned_tosca_id\n",
    "payload = {}\n",
    "headers= {'accept':'text/plain'}\n",
    "\n",
    "response = requests.request(\"GET\", base_url+path, headers=headers, data = payload, verify=False, auth=(username, password))\n",
    "deployed_tosca_id = response.text"
   ]
  },
  {
   "cell_type": "code",
   "execution_count": null,
   "metadata": {},
   "outputs": [],
   "source": [
    "tosca = get_tosca(deployed_tosca_id)\n",
    "\n",
    "tosca_dict = yaml.safe_load(tosca)\n",
    "graph = build_graph(tosca_dict['topology_template']['node_templates'])\n",
    "nx.draw(graph, with_labels=True)\n",
    "\n",
    "for node_name in tosca_dict['topology_template']['node_templates']:\n",
    "    if tosca_dict['topology_template']['node_templates'][node_name]['type'] == 'tosca.nodes.QC.docker.Orchestrator.Kubernetes':\n",
    "        for token in tosca_dict['topology_template']['node_templates'][node_name]['attributes']['tokens']:\n",
    "            if token['user'] == 'dashboard_token':\n",
    "                print(node_name+': '+' dashboard_token: '+token['token'])\n",
    "        print(node_name+': '+str(tosca_dict['topology_template']['node_templates'][node_name]['attributes']['dashboard_url']))\n",
    "    if tosca_dict['topology_template']['node_templates'][node_name]['type'] == 'tosca.nodes.QC.Container.Application.Docker':\n",
    "        print(node_name+': '+str(tosca_dict['topology_template']['node_templates'][node_name]['attributes']['service_url']))\n",
    "        "
   ]
  },
  {
   "cell_type": "code",
   "execution_count": null,
   "metadata": {},
   "outputs": [],
   "source": []
  }
 ],
 "metadata": {
  "kernelspec": {
   "display_name": "Python 3",
   "language": "python",
   "name": "python3"
  },
  "language_info": {
   "codemirror_mode": {
    "name": "ipython",
    "version": 3
   },
   "file_extension": ".py",
   "mimetype": "text/x-python",
   "name": "python",
   "nbconvert_exporter": "python",
   "pygments_lexer": "ipython3",
   "version": "3.7.6"
  }
 },
 "nbformat": 4,
 "nbformat_minor": 4
}
